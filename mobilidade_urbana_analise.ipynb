{
 "cells": [
  {
   "cell_type": "code",
   "id": "initial_id",
   "metadata": {
    "collapsed": true,
    "ExecuteTime": {
     "end_time": "2025-06-27T00:42:28.318683Z",
     "start_time": "2025-06-27T00:42:28.305166Z"
    }
   },
   "source": "import pandas as pd",
   "outputs": [],
   "execution_count": 2
  },
  {
   "metadata": {
    "ExecuteTime": {
     "end_time": "2025-06-27T00:42:28.394850Z",
     "start_time": "2025-06-27T00:42:28.342854Z"
    }
   },
   "cell_type": "code",
   "source": [
    "data = pd.read_csv('mobilidade_urbana.csv')\n",
    "data.head()"
   ],
   "id": "28d934734c39b5bb",
   "outputs": [
    {
     "data": {
      "text/plain": [
       "   ID  Idade        Zona           Ocupação Viagens/semana (Uber/99)  \\\n",
       "0   1     22       Norte  Estudante e Trab.                    3 a 5   \n",
       "1   2     19       Leste  Estudante (Univ.)                    1 a 2   \n",
       "2   3     28  Centro-Sul     Trabalhador(a)                    3 a 5   \n",
       "3   4     20       Norte  Estudante (Univ.)                    3 a 5   \n",
       "4   5     26       Oeste     Trabalhador(a)                   6 a 10   \n",
       "\n",
       "  Compara Preços?  Peso Preço (1-5)  Peso Tempo (1-5)  \\\n",
       "0          Sempre                 5                 3   \n",
       "1          Sempre                 5                 2   \n",
       "2        Às vezes                 3                 5   \n",
       "3    Quase sempre                 4                 4   \n",
       "4        Às vezes                 4                 5   \n",
       "\n",
       "  Reação à Tarifa Dinâmica Viagens Moto (de 10) Cancelamentos (3 meses)  \\\n",
       "0          Espero 5-10 min                1 a 3                   3 a 5   \n",
       "1      Procuro alternativa                4 a 6                   1 a 2   \n",
       "2   Pago o valor mais alto                    0                   1 a 2   \n",
       "3          Espero 5-10 min                1 a 3                   3 a 5   \n",
       "4   Pago o valor mais alto                1 a 3               6 ou mais   \n",
       "\n",
       "   Satisfação Ônibus (1-5) Gasto Mensal (Apps) Uso Ferramenta Segurança  \n",
       "0                        1           R$ 51-150   Na maioria das viagens  \n",
       "1                        1           Até R$ 50      Em todas as viagens  \n",
       "2                        2          R$ 151-300                Raramente  \n",
       "3                        2           R$ 51-150           Apenas à noite  \n",
       "4                        1     Acima de R$ 300           Apenas à noite  "
      ],
      "text/html": [
       "<div>\n",
       "<style scoped>\n",
       "    .dataframe tbody tr th:only-of-type {\n",
       "        vertical-align: middle;\n",
       "    }\n",
       "\n",
       "    .dataframe tbody tr th {\n",
       "        vertical-align: top;\n",
       "    }\n",
       "\n",
       "    .dataframe thead th {\n",
       "        text-align: right;\n",
       "    }\n",
       "</style>\n",
       "<table border=\"1\" class=\"dataframe\">\n",
       "  <thead>\n",
       "    <tr style=\"text-align: right;\">\n",
       "      <th></th>\n",
       "      <th>ID</th>\n",
       "      <th>Idade</th>\n",
       "      <th>Zona</th>\n",
       "      <th>Ocupação</th>\n",
       "      <th>Viagens/semana (Uber/99)</th>\n",
       "      <th>Compara Preços?</th>\n",
       "      <th>Peso Preço (1-5)</th>\n",
       "      <th>Peso Tempo (1-5)</th>\n",
       "      <th>Reação à Tarifa Dinâmica</th>\n",
       "      <th>Viagens Moto (de 10)</th>\n",
       "      <th>Cancelamentos (3 meses)</th>\n",
       "      <th>Satisfação Ônibus (1-5)</th>\n",
       "      <th>Gasto Mensal (Apps)</th>\n",
       "      <th>Uso Ferramenta Segurança</th>\n",
       "    </tr>\n",
       "  </thead>\n",
       "  <tbody>\n",
       "    <tr>\n",
       "      <th>0</th>\n",
       "      <td>1</td>\n",
       "      <td>22</td>\n",
       "      <td>Norte</td>\n",
       "      <td>Estudante e Trab.</td>\n",
       "      <td>3 a 5</td>\n",
       "      <td>Sempre</td>\n",
       "      <td>5</td>\n",
       "      <td>3</td>\n",
       "      <td>Espero 5-10 min</td>\n",
       "      <td>1 a 3</td>\n",
       "      <td>3 a 5</td>\n",
       "      <td>1</td>\n",
       "      <td>R$ 51-150</td>\n",
       "      <td>Na maioria das viagens</td>\n",
       "    </tr>\n",
       "    <tr>\n",
       "      <th>1</th>\n",
       "      <td>2</td>\n",
       "      <td>19</td>\n",
       "      <td>Leste</td>\n",
       "      <td>Estudante (Univ.)</td>\n",
       "      <td>1 a 2</td>\n",
       "      <td>Sempre</td>\n",
       "      <td>5</td>\n",
       "      <td>2</td>\n",
       "      <td>Procuro alternativa</td>\n",
       "      <td>4 a 6</td>\n",
       "      <td>1 a 2</td>\n",
       "      <td>1</td>\n",
       "      <td>Até R$ 50</td>\n",
       "      <td>Em todas as viagens</td>\n",
       "    </tr>\n",
       "    <tr>\n",
       "      <th>2</th>\n",
       "      <td>3</td>\n",
       "      <td>28</td>\n",
       "      <td>Centro-Sul</td>\n",
       "      <td>Trabalhador(a)</td>\n",
       "      <td>3 a 5</td>\n",
       "      <td>Às vezes</td>\n",
       "      <td>3</td>\n",
       "      <td>5</td>\n",
       "      <td>Pago o valor mais alto</td>\n",
       "      <td>0</td>\n",
       "      <td>1 a 2</td>\n",
       "      <td>2</td>\n",
       "      <td>R$ 151-300</td>\n",
       "      <td>Raramente</td>\n",
       "    </tr>\n",
       "    <tr>\n",
       "      <th>3</th>\n",
       "      <td>4</td>\n",
       "      <td>20</td>\n",
       "      <td>Norte</td>\n",
       "      <td>Estudante (Univ.)</td>\n",
       "      <td>3 a 5</td>\n",
       "      <td>Quase sempre</td>\n",
       "      <td>4</td>\n",
       "      <td>4</td>\n",
       "      <td>Espero 5-10 min</td>\n",
       "      <td>1 a 3</td>\n",
       "      <td>3 a 5</td>\n",
       "      <td>2</td>\n",
       "      <td>R$ 51-150</td>\n",
       "      <td>Apenas à noite</td>\n",
       "    </tr>\n",
       "    <tr>\n",
       "      <th>4</th>\n",
       "      <td>5</td>\n",
       "      <td>26</td>\n",
       "      <td>Oeste</td>\n",
       "      <td>Trabalhador(a)</td>\n",
       "      <td>6 a 10</td>\n",
       "      <td>Às vezes</td>\n",
       "      <td>4</td>\n",
       "      <td>5</td>\n",
       "      <td>Pago o valor mais alto</td>\n",
       "      <td>1 a 3</td>\n",
       "      <td>6 ou mais</td>\n",
       "      <td>1</td>\n",
       "      <td>Acima de R$ 300</td>\n",
       "      <td>Apenas à noite</td>\n",
       "    </tr>\n",
       "  </tbody>\n",
       "</table>\n",
       "</div>"
      ]
     },
     "execution_count": 3,
     "metadata": {},
     "output_type": "execute_result"
    }
   ],
   "execution_count": 3
  },
  {
   "metadata": {
    "ExecuteTime": {
     "end_time": "2025-06-27T00:42:28.507391Z",
     "start_time": "2025-06-27T00:42:28.476385Z"
    }
   },
   "cell_type": "code",
   "source": [
    "data = data.drop(columns=['ID'])\n",
    "data"
   ],
   "id": "9475c86157f4d7e0",
   "outputs": [
    {
     "data": {
      "text/plain": [
       "    Idade          Zona           Ocupação Viagens/semana (Uber/99)  \\\n",
       "0      22         Norte  Estudante e Trab.                    3 a 5   \n",
       "1      19         Leste  Estudante (Univ.)                    1 a 2   \n",
       "2      28    Centro-Sul     Trabalhador(a)                    3 a 5   \n",
       "3      20         Norte  Estudante (Univ.)                    3 a 5   \n",
       "4      26         Oeste     Trabalhador(a)                   6 a 10   \n",
       "5      17         Leste  Estudante (Médio)                    1 a 2   \n",
       "6      23         Norte  Estudante e Trab.                    3 a 5   \n",
       "7      25           Sul     Trabalhador(a)                    1 a 2   \n",
       "8      21  Centro-Oeste  Estudante (Univ.)                    3 a 5   \n",
       "9      29         Norte              Outro                   6 a 10   \n",
       "10     18         Leste  Estudante e Trab.                    3 a 5   \n",
       "11     24         Oeste     Trabalhador(a)                    3 a 5   \n",
       "12     20         Norte  Estudante (Univ.)                    1 a 2   \n",
       "13     27         Leste     Trabalhador(a)                   6 a 10   \n",
       "14     22    Centro-Sul  Estudante e Trab.                    3 a 5   \n",
       "15     19         Norte  Estudante (Univ.)                    1 a 2   \n",
       "16     25         Norte     Trabalhador(a)                    3 a 5   \n",
       "17     23         Leste  Estudante e Trab.                   6 a 10   \n",
       "18     21         Oeste  Estudante (Univ.)                    1 a 2   \n",
       "19     28         Norte     Trabalhador(a)                    3 a 5   \n",
       "20     16           Sul  Estudante (Médio)                    1 a 2   \n",
       "21     24  Centro-Oeste  Estudante e Trab.                    3 a 5   \n",
       "22     20         Leste  Estudante (Univ.)                    1 a 2   \n",
       "23     26         Norte     Trabalhador(a)                    1 a 2   \n",
       "24     22         Norte  Estudante e Trab.                    3 a 5   \n",
       "25     19         Leste  Estudante (Univ.)                    3 a 5   \n",
       "26     25    Centro-Sul     Trabalhador(a)                   6 a 10   \n",
       "27     23         Oeste  Estudante (Univ.)                    1 a 2   \n",
       "28     27         Norte  Estudante e Trab.                    3 a 5   \n",
       "29     20         Leste  Estudante (Univ.)                    1 a 2   \n",
       "30     18         Norte  Estudante (Médio)                    1 a 2   \n",
       "31     24         Leste     Trabalhador(a)                   6 a 10   \n",
       "32     26    Centro-Sul  Estudante e Trab.                    3 a 5   \n",
       "33     21         Norte     Trabalhador(a)                    3 a 5   \n",
       "\n",
       "   Compara Preços?  Peso Preço (1-5)  Peso Tempo (1-5)  \\\n",
       "0           Sempre                 5                 3   \n",
       "1           Sempre                 5                 2   \n",
       "2         Às vezes                 3                 5   \n",
       "3     Quase sempre                 4                 4   \n",
       "4         Às vezes                 4                 5   \n",
       "5           Sempre                 5                 2   \n",
       "6           Sempre                 5                 4   \n",
       "7        Raramente                 3                 4   \n",
       "8     Quase sempre                 4                 3   \n",
       "9            Nunca                 2                 5   \n",
       "10          Sempre                 5                 3   \n",
       "11    Quase sempre                 4                 4   \n",
       "12          Sempre                 5                 3   \n",
       "13    Quase sempre                 4                 5   \n",
       "14          Sempre                 4                 4   \n",
       "15          Sempre                 5                 2   \n",
       "16    Quase sempre                 5                 4   \n",
       "17          Sempre                 5                 4   \n",
       "18          Sempre                 4                 3   \n",
       "19    Quase sempre                 4                 4   \n",
       "20    Quase sempre                 5                 1   \n",
       "21          Sempre                 5                 4   \n",
       "22          Sempre                 5                 2   \n",
       "23        Às vezes                 3                 4   \n",
       "24          Sempre                 5                 3   \n",
       "25          Sempre                 4                 3   \n",
       "26       Raramente                 3                 5   \n",
       "27          Sempre                 5                 2   \n",
       "28    Quase sempre                 4                 4   \n",
       "29          Sempre                 5                 3   \n",
       "30    Quase sempre                 5                 2   \n",
       "31    Quase sempre                 4                 5   \n",
       "32          Sempre                 4                 4   \n",
       "33          Sempre                 5                 4   \n",
       "\n",
       "   Reação à Tarifa Dinâmica Viagens Moto (de 10) Cancelamentos (3 meses)  \\\n",
       "0           Espero 5-10 min                1 a 3                   3 a 5   \n",
       "1       Procuro alternativa                4 a 6                   1 a 2   \n",
       "2    Pago o valor mais alto                    0                   1 a 2   \n",
       "3           Espero 5-10 min                1 a 3                   3 a 5   \n",
       "4    Pago o valor mais alto                1 a 3               6 ou mais   \n",
       "5       Procuro alternativa                4 a 6                   1 a 2   \n",
       "6           Espero 5-10 min                1 a 3                   3 a 5   \n",
       "7    Pago o valor mais alto                    0                       0   \n",
       "8           Espero 5-10 min                1 a 3                   1 a 2   \n",
       "9    Pago o valor mais alto                    0                   3 a 5   \n",
       "10      Procuro alternativa                4 a 6                   3 a 5   \n",
       "11          Espero 5-10 min                    0                   1 a 2   \n",
       "12      Procuro alternativa                1 a 3                   1 a 2   \n",
       "13   Pago o valor mais alto                1 a 3               6 ou mais   \n",
       "14          Espero 5-10 min                    0                   3 a 5   \n",
       "15      Procuro alternativa                1 a 3                   1 a 2   \n",
       "16          Espero 5-10 min                1 a 3                   3 a 5   \n",
       "17          Espero 5-10 min                4 a 6               6 ou mais   \n",
       "18          Espero 5-10 min                    0                   1 a 2   \n",
       "19   Pago o valor mais alto                    0                   3 a 5   \n",
       "20      Procuro alternativa                1 a 3                       0   \n",
       "21          Espero 5-10 min                1 a 3                   3 a 5   \n",
       "22      Procuro alternativa                4 a 6                   1 a 2   \n",
       "23   Pago o valor mais alto                1 a 3                   1 a 2   \n",
       "24          Espero 5-10 min                4 a 6                   3 a 5   \n",
       "25          Espero 5-10 min                1 a 3                   1 a 2   \n",
       "26   Pago o valor mais alto                    0                   3 a 5   \n",
       "27      Procuro alternativa                    0                   1 a 2   \n",
       "28          Espero 5-10 min                1 a 3                   3 a 5   \n",
       "29          Espero 5-10 min                4 a 6                   1 a 2   \n",
       "30      Procuro alternativa                1 a 3                   1 a 2   \n",
       "31   Pago o valor mais alto                1 a 3               6 ou mais   \n",
       "32          Espero 5-10 min                    0                   3 a 5   \n",
       "33          Espero 5-10 min            7 ou mais                   3 a 5   \n",
       "\n",
       "    Satisfação Ônibus (1-5) Gasto Mensal (Apps) Uso Ferramenta Segurança  \n",
       "0                         1           R$ 51-150   Na maioria das viagens  \n",
       "1                         1           Até R$ 50      Em todas as viagens  \n",
       "2                         2          R$ 151-300                Raramente  \n",
       "3                         2           R$ 51-150           Apenas à noite  \n",
       "4                         1     Acima de R$ 300           Apenas à noite  \n",
       "5                         1           Até R$ 50      Em todas as viagens  \n",
       "6                         1           R$ 51-150   Na maioria das viagens  \n",
       "7                         3           Até R$ 50                Raramente  \n",
       "8                         2           R$ 51-150           Apenas à noite  \n",
       "9                         2     Acima de R$ 300                    Nunca  \n",
       "10                        1           R$ 51-150      Em todas as viagens  \n",
       "11                        2           R$ 51-150           Apenas à noite  \n",
       "12                        2           Até R$ 50   Na maioria das viagens  \n",
       "13                        1          R$ 151-300           Apenas à noite  \n",
       "14                        3           R$ 51-150   Na maioria das viagens  \n",
       "15                        2           Até R$ 50      Em todas as viagens  \n",
       "16                        1           R$ 51-150           Apenas à noite  \n",
       "17                        1          R$ 151-300   Na maioria das viagens  \n",
       "18                        2           R$ 51-150           Apenas à noite  \n",
       "19                        1           R$ 51-150      Em todas as viagens  \n",
       "20                        1           Até R$ 50   Na maioria das viagens  \n",
       "21                        2           R$ 51-150   Na maioria das viagens  \n",
       "22                        2           Até R$ 50      Em todas as viagens  \n",
       "23                        3           R$ 51-150                Raramente  \n",
       "24                        1           R$ 51-150      Em todas as viagens  \n",
       "25                        2           R$ 51-150           Apenas à noite  \n",
       "26                        2          R$ 151-300                Raramente  \n",
       "27                        1           Até R$ 50      Em todas as viagens  \n",
       "28                        2          R$ 151-300   Na maioria das viagens  \n",
       "29                        2           R$ 51-150           Apenas à noite  \n",
       "30                        1           Até R$ 50   Na maioria das viagens  \n",
       "31                        1          R$ 151-300           Apenas à noite  \n",
       "32                        2           R$ 51-150      Em todas as viagens  \n",
       "33                        1           R$ 51-150           Apenas à noite  "
      ],
      "text/html": [
       "<div>\n",
       "<style scoped>\n",
       "    .dataframe tbody tr th:only-of-type {\n",
       "        vertical-align: middle;\n",
       "    }\n",
       "\n",
       "    .dataframe tbody tr th {\n",
       "        vertical-align: top;\n",
       "    }\n",
       "\n",
       "    .dataframe thead th {\n",
       "        text-align: right;\n",
       "    }\n",
       "</style>\n",
       "<table border=\"1\" class=\"dataframe\">\n",
       "  <thead>\n",
       "    <tr style=\"text-align: right;\">\n",
       "      <th></th>\n",
       "      <th>Idade</th>\n",
       "      <th>Zona</th>\n",
       "      <th>Ocupação</th>\n",
       "      <th>Viagens/semana (Uber/99)</th>\n",
       "      <th>Compara Preços?</th>\n",
       "      <th>Peso Preço (1-5)</th>\n",
       "      <th>Peso Tempo (1-5)</th>\n",
       "      <th>Reação à Tarifa Dinâmica</th>\n",
       "      <th>Viagens Moto (de 10)</th>\n",
       "      <th>Cancelamentos (3 meses)</th>\n",
       "      <th>Satisfação Ônibus (1-5)</th>\n",
       "      <th>Gasto Mensal (Apps)</th>\n",
       "      <th>Uso Ferramenta Segurança</th>\n",
       "    </tr>\n",
       "  </thead>\n",
       "  <tbody>\n",
       "    <tr>\n",
       "      <th>0</th>\n",
       "      <td>22</td>\n",
       "      <td>Norte</td>\n",
       "      <td>Estudante e Trab.</td>\n",
       "      <td>3 a 5</td>\n",
       "      <td>Sempre</td>\n",
       "      <td>5</td>\n",
       "      <td>3</td>\n",
       "      <td>Espero 5-10 min</td>\n",
       "      <td>1 a 3</td>\n",
       "      <td>3 a 5</td>\n",
       "      <td>1</td>\n",
       "      <td>R$ 51-150</td>\n",
       "      <td>Na maioria das viagens</td>\n",
       "    </tr>\n",
       "    <tr>\n",
       "      <th>1</th>\n",
       "      <td>19</td>\n",
       "      <td>Leste</td>\n",
       "      <td>Estudante (Univ.)</td>\n",
       "      <td>1 a 2</td>\n",
       "      <td>Sempre</td>\n",
       "      <td>5</td>\n",
       "      <td>2</td>\n",
       "      <td>Procuro alternativa</td>\n",
       "      <td>4 a 6</td>\n",
       "      <td>1 a 2</td>\n",
       "      <td>1</td>\n",
       "      <td>Até R$ 50</td>\n",
       "      <td>Em todas as viagens</td>\n",
       "    </tr>\n",
       "    <tr>\n",
       "      <th>2</th>\n",
       "      <td>28</td>\n",
       "      <td>Centro-Sul</td>\n",
       "      <td>Trabalhador(a)</td>\n",
       "      <td>3 a 5</td>\n",
       "      <td>Às vezes</td>\n",
       "      <td>3</td>\n",
       "      <td>5</td>\n",
       "      <td>Pago o valor mais alto</td>\n",
       "      <td>0</td>\n",
       "      <td>1 a 2</td>\n",
       "      <td>2</td>\n",
       "      <td>R$ 151-300</td>\n",
       "      <td>Raramente</td>\n",
       "    </tr>\n",
       "    <tr>\n",
       "      <th>3</th>\n",
       "      <td>20</td>\n",
       "      <td>Norte</td>\n",
       "      <td>Estudante (Univ.)</td>\n",
       "      <td>3 a 5</td>\n",
       "      <td>Quase sempre</td>\n",
       "      <td>4</td>\n",
       "      <td>4</td>\n",
       "      <td>Espero 5-10 min</td>\n",
       "      <td>1 a 3</td>\n",
       "      <td>3 a 5</td>\n",
       "      <td>2</td>\n",
       "      <td>R$ 51-150</td>\n",
       "      <td>Apenas à noite</td>\n",
       "    </tr>\n",
       "    <tr>\n",
       "      <th>4</th>\n",
       "      <td>26</td>\n",
       "      <td>Oeste</td>\n",
       "      <td>Trabalhador(a)</td>\n",
       "      <td>6 a 10</td>\n",
       "      <td>Às vezes</td>\n",
       "      <td>4</td>\n",
       "      <td>5</td>\n",
       "      <td>Pago o valor mais alto</td>\n",
       "      <td>1 a 3</td>\n",
       "      <td>6 ou mais</td>\n",
       "      <td>1</td>\n",
       "      <td>Acima de R$ 300</td>\n",
       "      <td>Apenas à noite</td>\n",
       "    </tr>\n",
       "    <tr>\n",
       "      <th>5</th>\n",
       "      <td>17</td>\n",
       "      <td>Leste</td>\n",
       "      <td>Estudante (Médio)</td>\n",
       "      <td>1 a 2</td>\n",
       "      <td>Sempre</td>\n",
       "      <td>5</td>\n",
       "      <td>2</td>\n",
       "      <td>Procuro alternativa</td>\n",
       "      <td>4 a 6</td>\n",
       "      <td>1 a 2</td>\n",
       "      <td>1</td>\n",
       "      <td>Até R$ 50</td>\n",
       "      <td>Em todas as viagens</td>\n",
       "    </tr>\n",
       "    <tr>\n",
       "      <th>6</th>\n",
       "      <td>23</td>\n",
       "      <td>Norte</td>\n",
       "      <td>Estudante e Trab.</td>\n",
       "      <td>3 a 5</td>\n",
       "      <td>Sempre</td>\n",
       "      <td>5</td>\n",
       "      <td>4</td>\n",
       "      <td>Espero 5-10 min</td>\n",
       "      <td>1 a 3</td>\n",
       "      <td>3 a 5</td>\n",
       "      <td>1</td>\n",
       "      <td>R$ 51-150</td>\n",
       "      <td>Na maioria das viagens</td>\n",
       "    </tr>\n",
       "    <tr>\n",
       "      <th>7</th>\n",
       "      <td>25</td>\n",
       "      <td>Sul</td>\n",
       "      <td>Trabalhador(a)</td>\n",
       "      <td>1 a 2</td>\n",
       "      <td>Raramente</td>\n",
       "      <td>3</td>\n",
       "      <td>4</td>\n",
       "      <td>Pago o valor mais alto</td>\n",
       "      <td>0</td>\n",
       "      <td>0</td>\n",
       "      <td>3</td>\n",
       "      <td>Até R$ 50</td>\n",
       "      <td>Raramente</td>\n",
       "    </tr>\n",
       "    <tr>\n",
       "      <th>8</th>\n",
       "      <td>21</td>\n",
       "      <td>Centro-Oeste</td>\n",
       "      <td>Estudante (Univ.)</td>\n",
       "      <td>3 a 5</td>\n",
       "      <td>Quase sempre</td>\n",
       "      <td>4</td>\n",
       "      <td>3</td>\n",
       "      <td>Espero 5-10 min</td>\n",
       "      <td>1 a 3</td>\n",
       "      <td>1 a 2</td>\n",
       "      <td>2</td>\n",
       "      <td>R$ 51-150</td>\n",
       "      <td>Apenas à noite</td>\n",
       "    </tr>\n",
       "    <tr>\n",
       "      <th>9</th>\n",
       "      <td>29</td>\n",
       "      <td>Norte</td>\n",
       "      <td>Outro</td>\n",
       "      <td>6 a 10</td>\n",
       "      <td>Nunca</td>\n",
       "      <td>2</td>\n",
       "      <td>5</td>\n",
       "      <td>Pago o valor mais alto</td>\n",
       "      <td>0</td>\n",
       "      <td>3 a 5</td>\n",
       "      <td>2</td>\n",
       "      <td>Acima de R$ 300</td>\n",
       "      <td>Nunca</td>\n",
       "    </tr>\n",
       "    <tr>\n",
       "      <th>10</th>\n",
       "      <td>18</td>\n",
       "      <td>Leste</td>\n",
       "      <td>Estudante e Trab.</td>\n",
       "      <td>3 a 5</td>\n",
       "      <td>Sempre</td>\n",
       "      <td>5</td>\n",
       "      <td>3</td>\n",
       "      <td>Procuro alternativa</td>\n",
       "      <td>4 a 6</td>\n",
       "      <td>3 a 5</td>\n",
       "      <td>1</td>\n",
       "      <td>R$ 51-150</td>\n",
       "      <td>Em todas as viagens</td>\n",
       "    </tr>\n",
       "    <tr>\n",
       "      <th>11</th>\n",
       "      <td>24</td>\n",
       "      <td>Oeste</td>\n",
       "      <td>Trabalhador(a)</td>\n",
       "      <td>3 a 5</td>\n",
       "      <td>Quase sempre</td>\n",
       "      <td>4</td>\n",
       "      <td>4</td>\n",
       "      <td>Espero 5-10 min</td>\n",
       "      <td>0</td>\n",
       "      <td>1 a 2</td>\n",
       "      <td>2</td>\n",
       "      <td>R$ 51-150</td>\n",
       "      <td>Apenas à noite</td>\n",
       "    </tr>\n",
       "    <tr>\n",
       "      <th>12</th>\n",
       "      <td>20</td>\n",
       "      <td>Norte</td>\n",
       "      <td>Estudante (Univ.)</td>\n",
       "      <td>1 a 2</td>\n",
       "      <td>Sempre</td>\n",
       "      <td>5</td>\n",
       "      <td>3</td>\n",
       "      <td>Procuro alternativa</td>\n",
       "      <td>1 a 3</td>\n",
       "      <td>1 a 2</td>\n",
       "      <td>2</td>\n",
       "      <td>Até R$ 50</td>\n",
       "      <td>Na maioria das viagens</td>\n",
       "    </tr>\n",
       "    <tr>\n",
       "      <th>13</th>\n",
       "      <td>27</td>\n",
       "      <td>Leste</td>\n",
       "      <td>Trabalhador(a)</td>\n",
       "      <td>6 a 10</td>\n",
       "      <td>Quase sempre</td>\n",
       "      <td>4</td>\n",
       "      <td>5</td>\n",
       "      <td>Pago o valor mais alto</td>\n",
       "      <td>1 a 3</td>\n",
       "      <td>6 ou mais</td>\n",
       "      <td>1</td>\n",
       "      <td>R$ 151-300</td>\n",
       "      <td>Apenas à noite</td>\n",
       "    </tr>\n",
       "    <tr>\n",
       "      <th>14</th>\n",
       "      <td>22</td>\n",
       "      <td>Centro-Sul</td>\n",
       "      <td>Estudante e Trab.</td>\n",
       "      <td>3 a 5</td>\n",
       "      <td>Sempre</td>\n",
       "      <td>4</td>\n",
       "      <td>4</td>\n",
       "      <td>Espero 5-10 min</td>\n",
       "      <td>0</td>\n",
       "      <td>3 a 5</td>\n",
       "      <td>3</td>\n",
       "      <td>R$ 51-150</td>\n",
       "      <td>Na maioria das viagens</td>\n",
       "    </tr>\n",
       "    <tr>\n",
       "      <th>15</th>\n",
       "      <td>19</td>\n",
       "      <td>Norte</td>\n",
       "      <td>Estudante (Univ.)</td>\n",
       "      <td>1 a 2</td>\n",
       "      <td>Sempre</td>\n",
       "      <td>5</td>\n",
       "      <td>2</td>\n",
       "      <td>Procuro alternativa</td>\n",
       "      <td>1 a 3</td>\n",
       "      <td>1 a 2</td>\n",
       "      <td>2</td>\n",
       "      <td>Até R$ 50</td>\n",
       "      <td>Em todas as viagens</td>\n",
       "    </tr>\n",
       "    <tr>\n",
       "      <th>16</th>\n",
       "      <td>25</td>\n",
       "      <td>Norte</td>\n",
       "      <td>Trabalhador(a)</td>\n",
       "      <td>3 a 5</td>\n",
       "      <td>Quase sempre</td>\n",
       "      <td>5</td>\n",
       "      <td>4</td>\n",
       "      <td>Espero 5-10 min</td>\n",
       "      <td>1 a 3</td>\n",
       "      <td>3 a 5</td>\n",
       "      <td>1</td>\n",
       "      <td>R$ 51-150</td>\n",
       "      <td>Apenas à noite</td>\n",
       "    </tr>\n",
       "    <tr>\n",
       "      <th>17</th>\n",
       "      <td>23</td>\n",
       "      <td>Leste</td>\n",
       "      <td>Estudante e Trab.</td>\n",
       "      <td>6 a 10</td>\n",
       "      <td>Sempre</td>\n",
       "      <td>5</td>\n",
       "      <td>4</td>\n",
       "      <td>Espero 5-10 min</td>\n",
       "      <td>4 a 6</td>\n",
       "      <td>6 ou mais</td>\n",
       "      <td>1</td>\n",
       "      <td>R$ 151-300</td>\n",
       "      <td>Na maioria das viagens</td>\n",
       "    </tr>\n",
       "    <tr>\n",
       "      <th>18</th>\n",
       "      <td>21</td>\n",
       "      <td>Oeste</td>\n",
       "      <td>Estudante (Univ.)</td>\n",
       "      <td>1 a 2</td>\n",
       "      <td>Sempre</td>\n",
       "      <td>4</td>\n",
       "      <td>3</td>\n",
       "      <td>Espero 5-10 min</td>\n",
       "      <td>0</td>\n",
       "      <td>1 a 2</td>\n",
       "      <td>2</td>\n",
       "      <td>R$ 51-150</td>\n",
       "      <td>Apenas à noite</td>\n",
       "    </tr>\n",
       "    <tr>\n",
       "      <th>19</th>\n",
       "      <td>28</td>\n",
       "      <td>Norte</td>\n",
       "      <td>Trabalhador(a)</td>\n",
       "      <td>3 a 5</td>\n",
       "      <td>Quase sempre</td>\n",
       "      <td>4</td>\n",
       "      <td>4</td>\n",
       "      <td>Pago o valor mais alto</td>\n",
       "      <td>0</td>\n",
       "      <td>3 a 5</td>\n",
       "      <td>1</td>\n",
       "      <td>R$ 51-150</td>\n",
       "      <td>Em todas as viagens</td>\n",
       "    </tr>\n",
       "    <tr>\n",
       "      <th>20</th>\n",
       "      <td>16</td>\n",
       "      <td>Sul</td>\n",
       "      <td>Estudante (Médio)</td>\n",
       "      <td>1 a 2</td>\n",
       "      <td>Quase sempre</td>\n",
       "      <td>5</td>\n",
       "      <td>1</td>\n",
       "      <td>Procuro alternativa</td>\n",
       "      <td>1 a 3</td>\n",
       "      <td>0</td>\n",
       "      <td>1</td>\n",
       "      <td>Até R$ 50</td>\n",
       "      <td>Na maioria das viagens</td>\n",
       "    </tr>\n",
       "    <tr>\n",
       "      <th>21</th>\n",
       "      <td>24</td>\n",
       "      <td>Centro-Oeste</td>\n",
       "      <td>Estudante e Trab.</td>\n",
       "      <td>3 a 5</td>\n",
       "      <td>Sempre</td>\n",
       "      <td>5</td>\n",
       "      <td>4</td>\n",
       "      <td>Espero 5-10 min</td>\n",
       "      <td>1 a 3</td>\n",
       "      <td>3 a 5</td>\n",
       "      <td>2</td>\n",
       "      <td>R$ 51-150</td>\n",
       "      <td>Na maioria das viagens</td>\n",
       "    </tr>\n",
       "    <tr>\n",
       "      <th>22</th>\n",
       "      <td>20</td>\n",
       "      <td>Leste</td>\n",
       "      <td>Estudante (Univ.)</td>\n",
       "      <td>1 a 2</td>\n",
       "      <td>Sempre</td>\n",
       "      <td>5</td>\n",
       "      <td>2</td>\n",
       "      <td>Procuro alternativa</td>\n",
       "      <td>4 a 6</td>\n",
       "      <td>1 a 2</td>\n",
       "      <td>2</td>\n",
       "      <td>Até R$ 50</td>\n",
       "      <td>Em todas as viagens</td>\n",
       "    </tr>\n",
       "    <tr>\n",
       "      <th>23</th>\n",
       "      <td>26</td>\n",
       "      <td>Norte</td>\n",
       "      <td>Trabalhador(a)</td>\n",
       "      <td>1 a 2</td>\n",
       "      <td>Às vezes</td>\n",
       "      <td>3</td>\n",
       "      <td>4</td>\n",
       "      <td>Pago o valor mais alto</td>\n",
       "      <td>1 a 3</td>\n",
       "      <td>1 a 2</td>\n",
       "      <td>3</td>\n",
       "      <td>R$ 51-150</td>\n",
       "      <td>Raramente</td>\n",
       "    </tr>\n",
       "    <tr>\n",
       "      <th>24</th>\n",
       "      <td>22</td>\n",
       "      <td>Norte</td>\n",
       "      <td>Estudante e Trab.</td>\n",
       "      <td>3 a 5</td>\n",
       "      <td>Sempre</td>\n",
       "      <td>5</td>\n",
       "      <td>3</td>\n",
       "      <td>Espero 5-10 min</td>\n",
       "      <td>4 a 6</td>\n",
       "      <td>3 a 5</td>\n",
       "      <td>1</td>\n",
       "      <td>R$ 51-150</td>\n",
       "      <td>Em todas as viagens</td>\n",
       "    </tr>\n",
       "    <tr>\n",
       "      <th>25</th>\n",
       "      <td>19</td>\n",
       "      <td>Leste</td>\n",
       "      <td>Estudante (Univ.)</td>\n",
       "      <td>3 a 5</td>\n",
       "      <td>Sempre</td>\n",
       "      <td>4</td>\n",
       "      <td>3</td>\n",
       "      <td>Espero 5-10 min</td>\n",
       "      <td>1 a 3</td>\n",
       "      <td>1 a 2</td>\n",
       "      <td>2</td>\n",
       "      <td>R$ 51-150</td>\n",
       "      <td>Apenas à noite</td>\n",
       "    </tr>\n",
       "    <tr>\n",
       "      <th>26</th>\n",
       "      <td>25</td>\n",
       "      <td>Centro-Sul</td>\n",
       "      <td>Trabalhador(a)</td>\n",
       "      <td>6 a 10</td>\n",
       "      <td>Raramente</td>\n",
       "      <td>3</td>\n",
       "      <td>5</td>\n",
       "      <td>Pago o valor mais alto</td>\n",
       "      <td>0</td>\n",
       "      <td>3 a 5</td>\n",
       "      <td>2</td>\n",
       "      <td>R$ 151-300</td>\n",
       "      <td>Raramente</td>\n",
       "    </tr>\n",
       "    <tr>\n",
       "      <th>27</th>\n",
       "      <td>23</td>\n",
       "      <td>Oeste</td>\n",
       "      <td>Estudante (Univ.)</td>\n",
       "      <td>1 a 2</td>\n",
       "      <td>Sempre</td>\n",
       "      <td>5</td>\n",
       "      <td>2</td>\n",
       "      <td>Procuro alternativa</td>\n",
       "      <td>0</td>\n",
       "      <td>1 a 2</td>\n",
       "      <td>1</td>\n",
       "      <td>Até R$ 50</td>\n",
       "      <td>Em todas as viagens</td>\n",
       "    </tr>\n",
       "    <tr>\n",
       "      <th>28</th>\n",
       "      <td>27</td>\n",
       "      <td>Norte</td>\n",
       "      <td>Estudante e Trab.</td>\n",
       "      <td>3 a 5</td>\n",
       "      <td>Quase sempre</td>\n",
       "      <td>4</td>\n",
       "      <td>4</td>\n",
       "      <td>Espero 5-10 min</td>\n",
       "      <td>1 a 3</td>\n",
       "      <td>3 a 5</td>\n",
       "      <td>2</td>\n",
       "      <td>R$ 151-300</td>\n",
       "      <td>Na maioria das viagens</td>\n",
       "    </tr>\n",
       "    <tr>\n",
       "      <th>29</th>\n",
       "      <td>20</td>\n",
       "      <td>Leste</td>\n",
       "      <td>Estudante (Univ.)</td>\n",
       "      <td>1 a 2</td>\n",
       "      <td>Sempre</td>\n",
       "      <td>5</td>\n",
       "      <td>3</td>\n",
       "      <td>Espero 5-10 min</td>\n",
       "      <td>4 a 6</td>\n",
       "      <td>1 a 2</td>\n",
       "      <td>2</td>\n",
       "      <td>R$ 51-150</td>\n",
       "      <td>Apenas à noite</td>\n",
       "    </tr>\n",
       "    <tr>\n",
       "      <th>30</th>\n",
       "      <td>18</td>\n",
       "      <td>Norte</td>\n",
       "      <td>Estudante (Médio)</td>\n",
       "      <td>1 a 2</td>\n",
       "      <td>Quase sempre</td>\n",
       "      <td>5</td>\n",
       "      <td>2</td>\n",
       "      <td>Procuro alternativa</td>\n",
       "      <td>1 a 3</td>\n",
       "      <td>1 a 2</td>\n",
       "      <td>1</td>\n",
       "      <td>Até R$ 50</td>\n",
       "      <td>Na maioria das viagens</td>\n",
       "    </tr>\n",
       "    <tr>\n",
       "      <th>31</th>\n",
       "      <td>24</td>\n",
       "      <td>Leste</td>\n",
       "      <td>Trabalhador(a)</td>\n",
       "      <td>6 a 10</td>\n",
       "      <td>Quase sempre</td>\n",
       "      <td>4</td>\n",
       "      <td>5</td>\n",
       "      <td>Pago o valor mais alto</td>\n",
       "      <td>1 a 3</td>\n",
       "      <td>6 ou mais</td>\n",
       "      <td>1</td>\n",
       "      <td>R$ 151-300</td>\n",
       "      <td>Apenas à noite</td>\n",
       "    </tr>\n",
       "    <tr>\n",
       "      <th>32</th>\n",
       "      <td>26</td>\n",
       "      <td>Centro-Sul</td>\n",
       "      <td>Estudante e Trab.</td>\n",
       "      <td>3 a 5</td>\n",
       "      <td>Sempre</td>\n",
       "      <td>4</td>\n",
       "      <td>4</td>\n",
       "      <td>Espero 5-10 min</td>\n",
       "      <td>0</td>\n",
       "      <td>3 a 5</td>\n",
       "      <td>2</td>\n",
       "      <td>R$ 51-150</td>\n",
       "      <td>Em todas as viagens</td>\n",
       "    </tr>\n",
       "    <tr>\n",
       "      <th>33</th>\n",
       "      <td>21</td>\n",
       "      <td>Norte</td>\n",
       "      <td>Trabalhador(a)</td>\n",
       "      <td>3 a 5</td>\n",
       "      <td>Sempre</td>\n",
       "      <td>5</td>\n",
       "      <td>4</td>\n",
       "      <td>Espero 5-10 min</td>\n",
       "      <td>7 ou mais</td>\n",
       "      <td>3 a 5</td>\n",
       "      <td>1</td>\n",
       "      <td>R$ 51-150</td>\n",
       "      <td>Apenas à noite</td>\n",
       "    </tr>\n",
       "  </tbody>\n",
       "</table>\n",
       "</div>"
      ]
     },
     "execution_count": 4,
     "metadata": {},
     "output_type": "execute_result"
    }
   ],
   "execution_count": 4
  },
  {
   "metadata": {},
   "cell_type": "markdown",
   "source": "## Analisando a distribuição das idades dos participantes",
   "id": "32aed5c109ec63"
  },
  {
   "metadata": {
    "ExecuteTime": {
     "end_time": "2025-06-27T00:42:28.834013Z",
     "start_time": "2025-06-27T00:42:28.592909Z"
    }
   },
   "cell_type": "code",
   "source": [
    "import seaborn as sns\n",
    "\n",
    "sns.histplot(data=data.Idade, bins=10)"
   ],
   "id": "6a24caee21644bb",
   "outputs": [
    {
     "data": {
      "text/plain": [
       "<Axes: xlabel='Idade', ylabel='Count'>"
      ]
     },
     "execution_count": 5,
     "metadata": {},
     "output_type": "execute_result"
    },
    {
     "data": {
      "text/plain": [
       "<Figure size 640x480 with 1 Axes>"
      ],
      "image/png": "[encoded data removed]"
     },
     "metadata": {},
     "output_type": "display_data"
    }
   ],
   "execution_count": 5
  },
  {
   "metadata": {
    "ExecuteTime": {
     "end_time": "2025-06-27T00:42:29.010060Z",
     "start_time": "2025-06-27T00:42:28.885017Z"
    }
   },
   "cell_type": "code",
   "source": "sns.boxplot(data=data.Idade, orient='h')",
   "id": "546e3c1346e1b3da",
   "outputs": [
    {
     "data": {
      "text/plain": [
       "<Axes: xlabel='Idade'>"
      ]
     },
     "execution_count": 6,
     "metadata": {},
     "output_type": "execute_result"
    },
    {
     "data": {
      "text/plain": [
       "<Figure size 640x480 with 1 Axes>"
      ],
      "image/png": "[encoded data removed]"
     },
     "metadata": {},
     "output_type": "display_data"
    }
   ],
   "execution_count": 6
  },
  {
   "metadata": {
    "ExecuteTime": {
     "end_time": "2025-06-27T00:42:29.121114Z",
     "start_time": "2025-06-27T00:42:29.108598Z"
    }
   },
   "cell_type": "code",
   "source": "data.Idade.value_counts()",
   "id": "1987180d0fc337fd",
   "outputs": [
    {
     "data": {
      "text/plain": [
       "Idade\n",
       "20    4\n",
       "22    3\n",
       "19    3\n",
       "26    3\n",
       "25    3\n",
       "23    3\n",
       "21    3\n",
       "24    3\n",
       "27    2\n",
       "28    2\n",
       "18    2\n",
       "17    1\n",
       "29    1\n",
       "16    1\n",
       "Name: count, dtype: int64"
      ]
     },
     "execution_count": 7,
     "metadata": {},
     "output_type": "execute_result"
    }
   ],
   "execution_count": 7
  },
  {
   "metadata": {
    "ExecuteTime": {
     "end_time": "2025-06-27T00:42:29.200113Z",
     "start_time": "2025-06-27T00:42:29.186113Z"
    }
   },
   "cell_type": "code",
   "source": "data.Idade.describe()",
   "id": "78e9678a939f641d",
   "outputs": [
    {
     "data": {
      "text/plain": [
       "count    34.000000\n",
       "mean     22.588235\n",
       "std       3.429972\n",
       "min      16.000000\n",
       "25%      20.000000\n",
       "50%      22.500000\n",
       "75%      25.000000\n",
       "max      29.000000\n",
       "Name: Idade, dtype: float64"
      ]
     },
     "execution_count": 8,
     "metadata": {},
     "output_type": "execute_result"
    }
   ],
   "execution_count": 8
  },
  {
   "metadata": {},
   "cell_type": "markdown",
   "source": "## Analisando a Zona em que os participantes moram",
   "id": "637ab7ea626122af"
  },
  {
   "metadata": {
    "ExecuteTime": {
     "end_time": "2025-06-27T00:42:29.294634Z",
     "start_time": "2025-06-27T00:42:29.271636Z"
    }
   },
   "cell_type": "code",
   "source": "data.Zona.value_counts()",
   "id": "68a51160629f6c8f",
   "outputs": [
    {
     "data": {
      "text/plain": [
       "Zona\n",
       "Norte           13\n",
       "Leste            9\n",
       "Centro-Sul       4\n",
       "Oeste            4\n",
       "Sul              2\n",
       "Centro-Oeste     2\n",
       "Name: count, dtype: int64"
      ]
     },
     "execution_count": 9,
     "metadata": {},
     "output_type": "execute_result"
    }
   ],
   "execution_count": 9
  },
  {
   "metadata": {
    "ExecuteTime": {
     "end_time": "2025-06-27T00:42:29.470395Z",
     "start_time": "2025-06-27T00:42:29.317234Z"
    }
   },
   "cell_type": "code",
   "source": "data.Zona.value_counts().plot(kind='bar')",
   "id": "5f00787592582982",
   "outputs": [
    {
     "data": {
      "text/plain": [
       "<Axes: xlabel='Zona'>"
      ]
     },
     "execution_count": 10,
     "metadata": {},
     "output_type": "execute_result"
    },
    {
     "data": {
      "text/plain": [
       "<Figure size 640x480 with 1 Axes>"
      ],
      "image/png": "[encoded data removed]"
     },
     "metadata": {},
     "output_type": "display_data"
    }
   ],
   "execution_count": 10
  },
  {
   "metadata": {},
   "cell_type": "markdown",
   "source": "## Analisando a Ocupação dos participantes",
   "id": "5a79e4fc61004cd9"
  },
  {
   "metadata": {
    "ExecuteTime": {
     "end_time": "2025-06-27T00:42:29.501986Z",
     "start_time": "2025-06-27T00:42:29.483033Z"
    }
   },
   "cell_type": "code",
   "source": "data['Ocupação'].value_counts()",
   "id": "cdc1691cbc7e5c11",
   "outputs": [
    {
     "data": {
      "text/plain": [
       "Ocupação\n",
       "Trabalhador(a)       11\n",
       "Estudante (Univ.)    10\n",
       "Estudante e Trab.     9\n",
       "Estudante (Médio)     3\n",
       "Outro                 1\n",
       "Name: count, dtype: int64"
      ]
     },
     "execution_count": 11,
     "metadata": {},
     "output_type": "execute_result"
    }
   ],
   "execution_count": 11
  },
  {
   "metadata": {
    "ExecuteTime": {
     "end_time": "2025-06-27T00:42:29.723579Z",
     "start_time": "2025-06-27T00:42:29.520523Z"
    }
   },
   "cell_type": "code",
   "source": "data['Ocupação'].value_counts().plot(kind='bar')",
   "id": "14f09a4a31fef40",
   "outputs": [
    {
     "data": {
      "text/plain": [
       "<Axes: xlabel='Ocupação'>"
      ]
     },
     "execution_count": 12,
     "metadata": {},
     "output_type": "execute_result"
    },
    {
     "data": {
      "text/plain": [
       "<Figure size 640x480 with 1 Axes>"
      ],
      "image/png": "[encoded data removed]"
     },
     "metadata": {},
     "output_type": "display_data"
    }
   ],
   "execution_count": 12
  },
  {
   "metadata": {},
   "cell_type": "markdown",
   "source": "## Analisando Viagens por Semana dos participantes",
   "id": "89354cf26b482bcf"
  },
  {
   "metadata": {
    "ExecuteTime": {
     "end_time": "2025-06-27T00:42:29.754579Z",
     "start_time": "2025-06-27T00:42:29.732582Z"
    }
   },
   "cell_type": "code",
   "source": "data['Viagens/semana (Uber/99)'].value_counts()",
   "id": "d5a815437d451f65",
   "outputs": [
    {
     "data": {
      "text/plain": [
       "Viagens/semana (Uber/99)\n",
       "3 a 5     16\n",
       "1 a 2     12\n",
       "6 a 10     6\n",
       "Name: count, dtype: int64"
      ]
     },
     "execution_count": 13,
     "metadata": {},
     "output_type": "execute_result"
    }
   ],
   "execution_count": 13
  },
  {
   "metadata": {
    "ExecuteTime": {
     "end_time": "2025-06-27T00:42:29.943715Z",
     "start_time": "2025-06-27T00:42:29.773579Z"
    }
   },
   "cell_type": "code",
   "source": "data['Viagens/semana (Uber/99)'].value_counts().plot(kind='bar')",
   "id": "69d6c376a2e1db70",
   "outputs": [
    {
     "data": {
      "text/plain": [
       "<Axes: xlabel='Viagens/semana (Uber/99)'>"
      ]
     },
     "execution_count": 14,
     "metadata": {},
     "output_type": "execute_result"
    },
    {
     "data": {
      "text/plain": [
       "<Figure size 640x480 with 1 Axes>"
      ],
      "image/png": "[encoded data removed]"
     },
     "metadata": {},
     "output_type": "display_data"
    }
   ],
   "execution_count": 14
  },
  {
   "metadata": {},
   "cell_type": "markdown",
   "source": "## Analisando se os participantes Comparam o Preço entre os apps",
   "id": "2b374658196ab024"
  },
  {
   "metadata": {
    "ExecuteTime": {
     "end_time": "2025-06-27T00:42:29.975721Z",
     "start_time": "2025-06-27T00:42:29.951713Z"
    }
   },
   "cell_type": "code",
   "source": "data['Compara Preços?'].value_counts()",
   "id": "4a150fcdb00834ea",
   "outputs": [
    {
     "data": {
      "text/plain": [
       "Compara Preços?\n",
       "Sempre          18\n",
       "Quase sempre    10\n",
       "Às vezes         3\n",
       "Raramente        2\n",
       "Nunca            1\n",
       "Name: count, dtype: int64"
      ]
     },
     "execution_count": 15,
     "metadata": {},
     "output_type": "execute_result"
    }
   ],
   "execution_count": 15
  },
  {
   "metadata": {
    "ExecuteTime": {
     "end_time": "2025-06-27T00:42:30.103848Z",
     "start_time": "2025-06-27T00:42:29.983718Z"
    }
   },
   "cell_type": "code",
   "source": "data['Compara Preços?'].value_counts().plot(kind='bar')",
   "id": "e444fd4ec994a1c1",
   "outputs": [
    {
     "data": {
      "text/plain": [
       "<Axes: xlabel='Compara Preços?'>"
      ]
     },
     "execution_count": 16,
     "metadata": {},
     "output_type": "execute_result"
    },
    {
     "data": {
      "text/plain": [
       "<Figure size 640x480 with 1 Axes>"
      ],
      "image/png": "[encoded data removed]"
     },
     "metadata": {},
     "output_type": "display_data"
    }
   ],
   "execution_count": 16
  },
  {
   "metadata": {},
   "cell_type": "markdown",
   "source": "## Analisando o Peso do Preço e Peso do Tempo",
   "id": "5eaece670d5a42ab"
  },
  {
   "metadata": {
    "ExecuteTime": {
     "end_time": "2025-06-27T00:42:30.135376Z",
     "start_time": "2025-06-27T00:42:30.114848Z"
    }
   },
   "cell_type": "code",
   "source": "data['Peso Preço (1-5)'].value_counts()",
   "id": "ed586d11862ca8b",
   "outputs": [
    {
     "data": {
      "text/plain": [
       "Peso Preço (1-5)\n",
       "5    17\n",
       "4    12\n",
       "3     4\n",
       "2     1\n",
       "Name: count, dtype: int64"
      ]
     },
     "execution_count": 17,
     "metadata": {},
     "output_type": "execute_result"
    }
   ],
   "execution_count": 17
  },
  {
   "metadata": {
    "ExecuteTime": {
     "end_time": "2025-06-27T00:42:30.294866Z",
     "start_time": "2025-06-27T00:42:30.155372Z"
    }
   },
   "cell_type": "code",
   "source": "data['Peso Preço (1-5)'].value_counts().plot(kind='bar')",
   "id": "93846a66743ec093",
   "outputs": [
    {
     "data": {
      "text/plain": [
       "<Axes: xlabel='Peso Preço (1-5)'>"
      ]
     },
     "execution_count": 18,
     "metadata": {},
     "output_type": "execute_result"
    },
    {
     "data": {
      "text/plain": [
       "<Figure size 640x480 with 1 Axes>"
      ],
      "image/png": "[encoded data removed]"
     },
     "metadata": {},
     "output_type": "display_data"
    }
   ],
   "execution_count": 18
  },
  {
   "metadata": {
    "ExecuteTime": {
     "end_time": "2025-06-27T00:42:30.418883Z",
     "start_time": "2025-06-27T00:42:30.398364Z"
    }
   },
   "cell_type": "code",
   "source": "data['Peso Tempo (1-5)'].value_counts()",
   "id": "7b253b766fce4fb2",
   "outputs": [
    {
     "data": {
      "text/plain": [
       "Peso Tempo (1-5)\n",
       "4    13\n",
       "3     8\n",
       "2     6\n",
       "5     6\n",
       "1     1\n",
       "Name: count, dtype: int64"
      ]
     },
     "execution_count": 19,
     "metadata": {},
     "output_type": "execute_result"
    }
   ],
   "execution_count": 19
  },
  {
   "metadata": {
    "ExecuteTime": {
     "end_time": "2025-06-27T00:42:30.640886Z",
     "start_time": "2025-06-27T00:42:30.486900Z"
    }
   },
   "cell_type": "code",
   "source": "data['Peso Tempo (1-5)'].value_counts().plot(kind='bar')",
   "id": "8f505240f5fae552",
   "outputs": [
    {
     "data": {
      "text/plain": [
       "<Axes: xlabel='Peso Tempo (1-5)'>"
      ]
     },
     "execution_count": 20,
     "metadata": {},
     "output_type": "execute_result"
    },
    {
     "data": {
      "text/plain": [
       "<Figure size 640x480 with 1 Axes>"
      ],
      "image/png": "[encoded data removed]"
     },
     "metadata": {},
     "output_type": "display_data"
    }
   ],
   "execution_count": 20
  },
  {
   "metadata": {
    "ExecuteTime": {
     "end_time": "2025-06-27T00:42:30.687329Z",
     "start_time": "2025-06-27T00:42:30.669066Z"
    }
   },
   "cell_type": "code",
   "source": [
    "columns = data.columns\n",
    "columns"
   ],
   "id": "4e53f247bb6ac60",
   "outputs": [
    {
     "data": {
      "text/plain": [
       "Index(['Idade', 'Zona', 'Ocupação', 'Viagens/semana (Uber/99)',\n",
       "       'Compara Preços?', 'Peso Preço (1-5)', 'Peso Tempo (1-5)',\n",
       "       'Reação à Tarifa Dinâmica', 'Viagens Moto (de 10)',\n",
       "       'Cancelamentos (3 meses)', 'Satisfação Ônibus (1-5)',\n",
       "       'Gasto Mensal (Apps)', 'Uso Ferramenta Segurança'],\n",
       "      dtype='object')"
      ]
     },
     "execution_count": 21,
     "metadata": {},
     "output_type": "execute_result"
    }
   ],
   "execution_count": 21
  }
 ],
 "metadata": {
  "kernelspec": {
   "display_name": "Python 3",
   "language": "python",
   "name": "python3"
  },
  "language_info": {
   "codemirror_mode": {
    "name": "ipython",
    "version": 2
   },
   "file_extension": ".py",
   "mimetype": "text/x-python",
   "name": "python",
   "nbconvert_exporter": "python",
   "pygments_lexer": "ipython2",
   "version": "2.7.6"
  }
 },
 "nbformat": 4,
 "nbformat_minor": 5
}
